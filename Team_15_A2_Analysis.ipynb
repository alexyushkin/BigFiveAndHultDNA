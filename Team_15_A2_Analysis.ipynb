{
 "cells": [
  {
   "cell_type": "markdown",
   "id": "atmospheric-bridge",
   "metadata": {},
   "source": [
    "<br><h2><center>Unsupervised Analysis Project</center></h2>\n",
    "<br><center>Team 15</center>\n",
    "<br><center>Wael Breich | Jeannette Reyes | Alexey Yushkin</center>\n",
    "<br><center>Hult International Business School</center>\n",
    "<br><center>BMsBA1</center>\n",
    "<br>\n",
    "<br><center>Machine Learning - DAT-5303</center>\n",
    "<br><center>Professor Chase Kusterer</center>\n",
    "<br><center>February 22, 2021"
   ]
  },
  {
   "cell_type": "markdown",
   "id": "sufficient-strip",
   "metadata": {},
   "source": [
    "<h3><center>Introduction</center></h3>\n",
    "\n",
    "Apple Inc. has been researching several aspects of consumer behavior to better understand their decision-making process when it comes to buying a new laptop. In an attempt to understand whether consumers prefer a Windows or Mac laptop, Apple decided to look at the Big Five personality traits and the Hult DNA. We assume that the survey data, including its demographics, represent the population Apple Inc. is attempting to study."
   ]
  },
  {
   "cell_type": "markdown",
   "id": "opening-mongolia",
   "metadata": {},
   "source": [
    "<h3><center>Big Five personality traits</center></h3>\n",
    "\n",
    "According to researchers, there are five core personality traits. Each dimension is a measure in a range between the two polar ends of different characteristics:\n",
    "- Openness - Level of imaginations, curiosity, and eagerness to learn new things or experiences.\n",
    "- Conscientiousness -  Level of thoughtfulness, impulse control, and goal-directed behaviors (planning, organization).\n",
    "- Extroversion - Level of excitability, sociability, talkativeness, assertiveness, and emotional expressiveness.\n",
    "- Agreeableness - Level of trust, altruism, kindness, affection, and other pro-social behaviors.\n",
    "- Neuroticism - Level of moodiness and emotional instability.\n",
    "\n",
    "Although most people's behavior tends to be consistent with the underlying personality traits, they can also learn some skills to achieve a growth mindset."
   ]
  },
  {
   "cell_type": "markdown",
   "id": "industrial-liquid",
   "metadata": {},
   "source": [
    "<h3><center>Hult DNA</center></h3>\n",
    "\n",
    "Hult DNA proposes a set of aspirations for Hult students' professional development and a tool to assist in aligning their skills with future employer needs. This framework involves three primary leadership skills that the world's leading employees highly value. They describe nine behavioral skills as follow:\n",
    "\n",
    "- Thinking: \n",
    "    - i) Show self-awareness \n",
    "    - ii) Embraces change \n",
    "    - iii) Demonstrate dynamic thinking\n",
    " \n",
    "- Communicating: \n",
    "    - i) Speaks and listen carefully \n",
    "    - ii) Influences confidently \n",
    "    - iii) Present ideas effectively\n",
    "    \n",
    "- Team Building:  \n",
    "    - i) Foster Collaborative Relationships \n",
    "    - ii) Inspires Productivity \n",
    "    - iii) Resolve Conflict constructively"
   ]
  },
  {
   "cell_type": "markdown",
   "id": "afraid-bleeding",
   "metadata": {},
   "source": [
    "<h3><center>Loading and cleaning data</center></h3>"
   ]
  },
  {
   "cell_type": "code",
   "execution_count": 1,
   "id": "realistic-teddy",
   "metadata": {},
   "outputs": [],
   "source": [
    "# importing packages\n",
    "# mathematical essentials\n",
    "import numpy as np\n",
    "\n",
    "# data science essentials\n",
    "import pandas as pd\n",
    "\n",
    "# fundamental data visualization\n",
    "import matplotlib.pyplot as plt  \n",
    "\n",
    "# enhanced visualizations\n",
    "import seaborn as sns\n",
    "\n",
    "# standard scaler\n",
    "from sklearn.preprocessing import StandardScaler\n",
    "\n",
    "# pca\n",
    "from sklearn.decomposition import PCA\n",
    "\n",
    "# dendrograms\n",
    "from scipy.cluster.hierarchy import dendrogram, linkage \n",
    "\n",
    "# k-means clustering\n",
    "from sklearn.cluster import KMeans      \n",
    "\n",
    "# deactivating warnings\n",
    "import warnings\n",
    "warnings.filterwarnings('ignore')"
   ]
  },
  {
   "cell_type": "code",
   "execution_count": 2,
   "id": "subjective-humanitarian",
   "metadata": {},
   "outputs": [],
   "source": [
    "# setting visualization style \n",
    "sns.set_style('whitegrid')\n",
    "\n",
    "# setting palette\n",
    "my_palette = sns.color_palette(\"gist_earth\")\n",
    "sns.set_palette(my_palette)"
   ]
  },
  {
   "cell_type": "code",
   "execution_count": 3,
   "id": "acoustic-puppy",
   "metadata": {},
   "outputs": [],
   "source": [
    "# setting print options\n",
    "pd.options.display.max_columns = 100\n",
    "pd.options.display.max_colwidth = 100\n",
    "pd.options.display.max_rows = 500"
   ]
  },
  {
   "cell_type": "code",
   "execution_count": 4,
   "id": "nervous-tolerance",
   "metadata": {},
   "outputs": [],
   "source": [
    "# loading data\n",
    "data_full = pd.read_excel('./datasets/survey_data.xlsx')\n",
    "\n",
    "# data_full.head(n=3)"
   ]
  },
  {
   "cell_type": "code",
   "execution_count": 5,
   "id": "entitled-consensus",
   "metadata": {},
   "outputs": [],
   "source": [
    "# # checking missing values\n",
    "# data_full.isnull().any().any()"
   ]
  },
  {
   "cell_type": "markdown",
   "id": "funded-minnesota",
   "metadata": {},
   "source": [
    "The dataset does not have any missing values."
   ]
  },
  {
   "cell_type": "markdown",
   "id": "considerable-mississippi",
   "metadata": {},
   "source": [
    "The column 'surveyID' doesn't provide us with any useful information and can be removed."
   ]
  },
  {
   "cell_type": "code",
   "execution_count": 6,
   "id": "intense-chorus",
   "metadata": {},
   "outputs": [],
   "source": [
    "# removing the column which is not needed\n",
    "data = data_full.drop('surveyID', axis=1)"
   ]
  },
  {
   "cell_type": "code",
   "execution_count": 7,
   "id": "optional-formula",
   "metadata": {},
   "outputs": [],
   "source": [
    "####################### processing demographic columns #######################"
   ]
  },
  {
   "cell_type": "code",
   "execution_count": 8,
   "id": "comfortable-network",
   "metadata": {},
   "outputs": [],
   "source": [
    "# # checking the column nationality\n",
    "# data_full['What is your nationality? '].value_counts()"
   ]
  },
  {
   "cell_type": "code",
   "execution_count": 9,
   "id": "capital-algebra",
   "metadata": {},
   "outputs": [],
   "source": [
    "# # checking the column ethnicity\n",
    "# data_full['What is your ethnicity?'].value_counts()"
   ]
  },
  {
   "cell_type": "markdown",
   "id": "weird-listing",
   "metadata": {},
   "source": [
    "The nationality column has inconsistent data. This means it should be cleaned up. On the other hand, there are not so many observations for each nationality. Considering that we have division by ethnicity, which forms larger groups, it makes sense not to use nationality variable."
   ]
  },
  {
   "cell_type": "code",
   "execution_count": 10,
   "id": "ruled-liquid",
   "metadata": {},
   "outputs": [],
   "source": [
    "# removing nationality column\n",
    "data.drop('What is your nationality? ', axis=1, inplace=True)"
   ]
  },
  {
   "cell_type": "code",
   "execution_count": 11,
   "id": "durable-marine",
   "metadata": {},
   "outputs": [],
   "source": [
    "# # checking the column gender\n",
    "# data['Gender'].value_counts()"
   ]
  },
  {
   "cell_type": "code",
   "execution_count": 12,
   "id": "waiting-screen",
   "metadata": {},
   "outputs": [],
   "source": [
    "# # checking the column age\n",
    "# data['What is your age?'].value_counts().sort_index()"
   ]
  },
  {
   "cell_type": "markdown",
   "id": "steady-respect",
   "metadata": {},
   "source": [
    "Since ages up to 23 and greater than 27 have considerably fewer observations, it makes sense to aggregate age as up to 24 yo, 25-29 yo, and 30+ yo."
   ]
  },
  {
   "cell_type": "code",
   "execution_count": 13,
   "id": "permanent-cookbook",
   "metadata": {},
   "outputs": [],
   "source": [
    "# defining a function for creating age groups\n",
    "def age_groups(x):\n",
    "    \n",
    "    # yanger than 25\n",
    "    if x <= 24:\n",
    "        return 'up to 24'\n",
    "    \n",
    "    # from 25 to 29\n",
    "    if x <= 29:\n",
    "        return '25-29'\n",
    "    \n",
    "    # older than 29\n",
    "    else:\n",
    "        return '30+'"
   ]
  },
  {
   "cell_type": "code",
   "execution_count": 14,
   "id": "stylish-liechtenstein",
   "metadata": {},
   "outputs": [],
   "source": [
    "# creating column for age groups\n",
    "data['Age Group'] = data['What is your age?'].apply(age_groups)\n",
    "\n",
    "# removing column with ages\n",
    "data.drop('What is your age?', axis=1, inplace=True)"
   ]
  },
  {
   "cell_type": "code",
   "execution_count": 15,
   "id": "welcome-pricing",
   "metadata": {},
   "outputs": [],
   "source": [
    "# # checking the column program\n",
    "# data['What program are you in?'].value_counts()"
   ]
  },
  {
   "cell_type": "markdown",
   "id": "round-potter",
   "metadata": {},
   "source": [
    "Since DD (MBA & Disruptive innovation) has only one observation, it makes sense to join all DD MBAs together."
   ]
  },
  {
   "cell_type": "code",
   "execution_count": 16,
   "id": "located-headset",
   "metadata": {},
   "outputs": [],
   "source": [
    "# combining DD MBAs programs\n",
    "data['What program are you in?'].\\\n",
    "                            replace({'DD (MBA & Business Analytics)': 'DD MBA',\n",
    "                                     'DD (MBA & Disruptive innovation)': 'DD MBA'}, \n",
    "                                    inplace=True)"
   ]
  },
  {
   "cell_type": "code",
   "execution_count": 17,
   "id": "architectural-hometown",
   "metadata": {},
   "outputs": [],
   "source": [
    "################## processing laptop types related columns ###################"
   ]
  },
  {
   "cell_type": "code",
   "execution_count": 18,
   "id": "developmental-cradle",
   "metadata": {},
   "outputs": [],
   "source": [
    "# # checking the current laptop type\n",
    "# data['What laptop do you currently have?'].value_counts()"
   ]
  },
  {
   "cell_type": "markdown",
   "id": "martial-paper",
   "metadata": {},
   "source": [
    "We can see that about half of the respondents have Macbooks and the other half have Windows laptops."
   ]
  },
  {
   "cell_type": "code",
   "execution_count": 19,
   "id": "satellite-immune",
   "metadata": {},
   "outputs": [],
   "source": [
    "# # checking the planning laptop type\n",
    "# data['What laptop would you buy in next assuming if all laptops cost the same?']\\\n",
    "#                             .value_counts()"
   ]
  },
  {
   "cell_type": "markdown",
   "id": "backed-grant",
   "metadata": {},
   "source": [
    "Since we need to prepare recommendations for Apple Inc., we can divide laptop types as Macbook and Other, keeping in mind that most of the Other laptops use Windows."
   ]
  },
  {
   "cell_type": "code",
   "execution_count": 20,
   "id": "floppy-saudi",
   "metadata": {},
   "outputs": [],
   "source": [
    "# replacing the current laptop types\n",
    "data['What laptop do you currently have?'].\\\n",
    "                            replace('Windows laptop', 'Other', inplace=True)\n",
    "\n",
    "# replacing the planning laptop types\n",
    "data['What laptop would you buy in next assuming if all laptops cost the same?'].\\\n",
    "                            replace({'Windows laptop': 'Other',\n",
    "                                     'Chromebook': 'Other'}, inplace=True)"
   ]
  },
  {
   "cell_type": "code",
   "execution_count": 21,
   "id": "discrete-single",
   "metadata": {},
   "outputs": [],
   "source": [
    "######################## processing questions columns ########################"
   ]
  },
  {
   "cell_type": "code",
   "execution_count": 22,
   "id": "satellite-virgin",
   "metadata": {},
   "outputs": [],
   "source": [
    "# # checking answers variables statictics\n",
    "# data.describe()"
   ]
  },
  {
   "cell_type": "code",
   "execution_count": 23,
   "id": "latest-things",
   "metadata": {},
   "outputs": [],
   "source": [
    "# # checking questions\n",
    "# list(data.describe().columns)"
   ]
  },
  {
   "cell_type": "markdown",
   "id": "dominican-message",
   "metadata": {},
   "source": [
    "The questions 'Respond effectively to multiple priorities,' 'Encourage direct and open discussions,' and \"Take initiative even when circumstances, objectives, or rules aren't clear\" are doubled. And in some cases, the same persons' answers to the same questions are different. To minimize possible errors, we will take rounded averages of the responses."
   ]
  },
  {
   "cell_type": "code",
   "execution_count": 24,
   "id": "married-sarah",
   "metadata": {},
   "outputs": [],
   "source": [
    "# averaging and rounding answers\n",
    "data['Respond effectively to multiple priorities'] = \\\n",
    "    ((data['Respond effectively to multiple priorities'] \\\n",
    "    + data['Respond effectively to multiple priorities.1']) / 2).round(0)\n",
    "\n",
    "# removing the columns which is not needed\n",
    "data.drop('Respond effectively to multiple priorities.1', axis=1, inplace=True)"
   ]
  },
  {
   "cell_type": "code",
   "execution_count": 25,
   "id": "furnished-battlefield",
   "metadata": {},
   "outputs": [],
   "source": [
    "# averaging and rounding answers\n",
    "data['Encourage direct and open discussions'] = \\\n",
    "    ((data['Encourage direct and open discussions'] \\\n",
    "    + data['Encourage direct and open discussions.1']) / 2).round(0)\n",
    "\n",
    "# removing the columns which is not needed\n",
    "data.drop('Encourage direct and open discussions.1', axis=1, inplace=True)"
   ]
  },
  {
   "cell_type": "code",
   "execution_count": 26,
   "id": "administrative-wallet",
   "metadata": {},
   "outputs": [],
   "source": [
    "# averaging and rounding answers\n",
    "data[\"Take initiative even when circumstances, objectives, or rules aren't clear\"] = \\\n",
    "    ((data[\"Take initiative even when circumstances, objectives, or rules aren't clear\"] \\\n",
    "    + data[\"Take initiative even when circumstances, objectives, or rules aren't clear.1\"]) \\\n",
    "    / 2).round(0)\n",
    "\n",
    "# removing the columns which is not needed\n",
    "data.drop(\"Take initiative even when circumstances, objectives, or rules aren't clear.1\", \\\n",
    "          axis=1, inplace=True)"
   ]
  },
  {
   "cell_type": "code",
   "execution_count": 27,
   "id": "radical-major",
   "metadata": {},
   "outputs": [],
   "source": [
    "# subsetting answers\n",
    "data_answers = data.iloc[:, 0:68]"
   ]
  },
  {
   "cell_type": "code",
   "execution_count": 28,
   "id": "norman-provision",
   "metadata": {},
   "outputs": [],
   "source": [
    "# # checking respondents with little variance in answers\n",
    "# for row in range(len(data)):\n",
    "#     if data_answers.iloc[row, :].var() < 0.5:\n",
    "#         print(row, '\\n')\n",
    "#         print(data_answers.iloc[row, :].describe(), '\\n')\n",
    "#         print(data_answers.iloc[row, :], '\\n\\n')"
   ]
  },
  {
   "cell_type": "markdown",
   "id": "expressed-ethics",
   "metadata": {},
   "source": [
    "There are patterns (long series of the same numbers) observed in answers of 17th, 59th and 110th respondents. To prevent this untrustworthy data from affecting our results, we will remove those observations."
   ]
  },
  {
   "cell_type": "code",
   "execution_count": 29,
   "id": "appointed-trading",
   "metadata": {},
   "outputs": [],
   "source": [
    "# removing rows with answers which demonstrate patterns\n",
    "data.drop([17, 59, 110], axis=0, inplace=True)"
   ]
  },
  {
   "cell_type": "markdown",
   "id": "departmental-blame",
   "metadata": {},
   "source": [
    "<h3><center>Creating variables connected to Big Five traits and Hult DNA elements</center></h3>\n",
    "<br>We identified questions related to the various Big Five and Hult DNA elements, and we will create variables corresponding to these elements."
   ]
  },
  {
   "cell_type": "code",
   "execution_count": 30,
   "id": "competent-while",
   "metadata": {},
   "outputs": [],
   "source": [
    "# creating extraversion variable \n",
    "data['extraversion'] = data[\"Am the life of the party\"] \\\n",
    "                       - data[\"Don't talk a lot\"] \\\n",
    "                       + data[\"Feel comfortable around people\"] \\\n",
    "                       - data[\"Keep in the background\"] \\\n",
    "                       + data[\"Start conversations\"] \\\n",
    "                       - data[\"Have little to say\"] \\\n",
    "                       + data[\"Talk to a lot of different people at parties\"] \\\n",
    "                       - data[\"Don't like to draw attention to myself\"] \\\n",
    "                       + data[\"Don't mind being the center of attention\"] \\\n",
    "                       - data[\"Am quiet around strangers\"]"
   ]
  },
  {
   "cell_type": "code",
   "execution_count": 31,
   "id": "embedded-jerusalem",
   "metadata": {},
   "outputs": [],
   "source": [
    "# creating neuroticism variable \n",
    "data['neuroticism'] = data[\"Get stressed out easily\"] \\\n",
    "                      - data[\"Am relaxed most of the time\"] \\\n",
    "                      + data[\"Worry about things\"] \\\n",
    "                      - data[\"Seldom feel blue\"] \\\n",
    "                      + data[\"Am easily disturbed\"] \\\n",
    "                      + data[\"Get upset easily\"] \\\n",
    "                      + data[\"Change my mood a lot\"] \\\n",
    "                      + data[\"Have frequent mood swings\"] \\\n",
    "                      + data[\"Get irritated easily\"] \\\n",
    "                      + data[\"Often feel blue\"]"
   ]
  },
  {
   "cell_type": "code",
   "execution_count": 32,
   "id": "spread-archive",
   "metadata": {},
   "outputs": [],
   "source": [
    "# creating conscientiousness variable \n",
    "data['conscientiousness'] = data[\"Am always prepared\"] \\\n",
    "                            - data[\"Leave my belongings around\"] \\\n",
    "                            + data[\"Pay attention to details\"] \\\n",
    "                            - data[\"Make a mess of things\"] \\\n",
    "                            + data[\"Get chores done right away\"] \\\n",
    "                            - data[\"Often forget to put things back in their proper place\"] \\\n",
    "                            + data[\"Like order\"] \\\n",
    "                            - data[\"Shirk my duties\"] \\\n",
    "                            + data[\"Follow a schedule\"] \\\n",
    "                            + data[\"Am exacting in my work\"]"
   ]
  },
  {
   "cell_type": "code",
   "execution_count": 33,
   "id": "private-premium",
   "metadata": {},
   "outputs": [],
   "source": [
    "# creating agreeableness variable \n",
    "data['agreeableness'] = - data[\"Feel little concern for others\"] \\\n",
    "                        + data[\"Am interested in people\"] \\\n",
    "                        - data[\"Insult people\"] \\\n",
    "                        + data[\"Sympathize with others' feelings\"] \\\n",
    "                        - data[\"Am not interested in other people's problems\"] \\\n",
    "                        + data[\"Have a soft heart\"] \\\n",
    "                        - data[\"Am not really interested in others\"] \\\n",
    "                        + data[\"Take time out for others\"] \\\n",
    "                        + data[\"Feel others' emotions\"] \\\n",
    "                        + data[\"Make people feel at ease\"]"
   ]
  },
  {
   "cell_type": "code",
   "execution_count": 34,
   "id": "preliminary-implementation",
   "metadata": {},
   "outputs": [],
   "source": [
    "# creating openness variable \n",
    "data['openness'] = data[\"Have a rich vocabulary\"] \\\n",
    "                   - data[\"Have difficulty understanding abstract ideas\"] \\\n",
    "                   + data[\"Have a vivid imagination\"] \\\n",
    "                   - data[\"Am not interested in abstract ideas\"] \\\n",
    "                   + data[\"Have excellent ideas\"] \\\n",
    "                   - data[\"Do not have a good imagination\"] \\\n",
    "                   + data[\"Am quick to understand things\"] \\\n",
    "                   + data[\"Use difficult words\"] \\\n",
    "                   + data[\"Spend time reflecting on things\"] \\\n",
    "                   + data[\"Am full of ideas\"]"
   ]
  },
  {
   "cell_type": "code",
   "execution_count": 35,
   "id": "annoying-memory",
   "metadata": {},
   "outputs": [],
   "source": [
    "# creating thinking variable \n",
    "data['thinking'] = \\\n",
    "    data[\"See underlying patterns in complex situations\"] \\\n",
    "    - data[\"Don't  generate ideas that are new and different\"] \\\n",
    "    + data[\"Demonstrate an awareness of personal strengths and limitations\"] \\\n",
    "    + data[\"Display a growth mindset\"] \\\n",
    "    + data[\"Respond effectively to multiple priorities\"] \\\n",
    "    + data[\"Take initiative even when circumstances, objectives, or rules aren't clear\"]"
   ]
  },
  {
   "cell_type": "code",
   "execution_count": 36,
   "id": "thorough-latin",
   "metadata": {},
   "outputs": [],
   "source": [
    "# creating communicating variable \n",
    "data['communicating'] = \\\n",
    "    data[\"Encourage direct and open discussions\"] \\\n",
    "    + data[\"Listen carefully to others\"] \\\n",
    "    - data[\"Don't persuasively sell a vision or idea\"] \\\n",
    "    + data[\"Build cooperative relationships\"] \\\n",
    "    + data[\"Work well with people from diverse cultural backgrounds\"] \\\n",
    "    + data[\"Effectively negotiate interests, resources, and roles\"]"
   ]
  },
  {
   "cell_type": "code",
   "execution_count": 37,
   "id": "ready-choice",
   "metadata": {},
   "outputs": [],
   "source": [
    "# creating team_building variable \n",
    "data['team_building'] = \\\n",
    "    - data[\"Can't rally people on the team around a common goal\"] \\\n",
    "    + data[\"Translate ideas into plans that are organized and realistic\"] \\\n",
    "    + data[\"Resolve conflicts constructively\"] \\\n",
    "    + data[\"Seek and use feedback from teammates\"] \\\n",
    "    + data[\"Coach teammates for performance and growth\"] \\\n",
    "    + data[\"Drive for results\"]"
   ]
  },
  {
   "cell_type": "markdown",
   "id": "concrete-helicopter",
   "metadata": {},
   "source": [
    "We will create a separate DataFrame containing variables relevant to the Big Five and Hult DNA."
   ]
  },
  {
   "cell_type": "code",
   "execution_count": 38,
   "id": "faced-malawi",
   "metadata": {},
   "outputs": [],
   "source": [
    "# creating DataFrame with traits\n",
    "data_traits = data[['extraversion', 'neuroticism', 'agreeableness',\n",
    "                    'openness', 'conscientiousness',\n",
    "                    'thinking', 'communicating', 'team_building']]"
   ]
  },
  {
   "cell_type": "markdown",
   "id": "portuguese-prediction",
   "metadata": {},
   "source": [
    "For later use, we will create lists of variables related to demographics and variables related to types of laptops."
   ]
  },
  {
   "cell_type": "code",
   "execution_count": 39,
   "id": "efficient-diagnosis",
   "metadata": {},
   "outputs": [],
   "source": [
    "# creating list of demographic columns names\n",
    "dem_cols = ['What program are you in?', 'Gender', 'What is your ethnicity?',\n",
    "            'Age Group']"
   ]
  },
  {
   "cell_type": "code",
   "execution_count": 40,
   "id": "finnish-correlation",
   "metadata": {},
   "outputs": [],
   "source": [
    "# creating list of laptop types related columns names\n",
    "laptop_types = ['What laptop do you currently have?',\n",
    "                'What laptop would you buy in next assuming if all laptops cost the same?']"
   ]
  },
  {
   "cell_type": "markdown",
   "id": "patent-brand",
   "metadata": {},
   "source": [
    "<h3><center>Data Preparation</center></h3>"
   ]
  },
  {
   "cell_type": "code",
   "execution_count": 41,
   "id": "close-coupon",
   "metadata": {},
   "outputs": [
    {
     "data": {
      "image/png": "[encoded data removed]",
      "text/plain": [
       "<Figure size 864x576 with 8 Axes>"
      ]
     },
     "metadata": {},
     "output_type": "display_data"
    }
   ],
   "source": [
    "# checking the distributions\n",
    "# setting figure size\n",
    "fig, ax = plt.subplots(figsize=(12, 8))\n",
    "\n",
    "# initializing a counter\n",
    "count = 0\n",
    "\n",
    "# looping to create visualizations\n",
    "for col in data_traits:\n",
    "\n",
    "    # condition to break\n",
    "    if count == len(data_traits):\n",
    "        break\n",
    "    \n",
    "    # increasing count\n",
    "    count += 1\n",
    "    \n",
    "    # preparing histograms\n",
    "    plt.subplot(3, 3, count)\n",
    "    sns.histplot(x=data_traits[col])\n",
    "\n",
    "# formatting and displaying the plot\n",
    "plt.tight_layout()\n",
    "plt.show()"
   ]
  },
  {
   "cell_type": "markdown",
   "id": "adequate-morocco",
   "metadata": {},
   "source": [
    "As seen in the visualizations, the distributions of the variables are close to normal, but in some cases (for example, neuroticism, thinking, communicating, and agreeableness) the distributions are skewed. Next, we check if the skewness is acceptable."
   ]
  },
  {
   "cell_type": "code",
   "execution_count": 42,
   "id": "verified-hudson",
   "metadata": {},
   "outputs": [
    {
     "data": {
      "text/html": [
       "<div>\n",
       "<style scoped>\n",
       "    .dataframe tbody tr th:only-of-type {\n",
       "        vertical-align: middle;\n",
       "    }\n",
       "\n",
       "    .dataframe tbody tr th {\n",
       "        vertical-align: top;\n",
       "    }\n",
       "\n",
       "    .dataframe thead th {\n",
       "        text-align: right;\n",
       "    }\n",
       "</style>\n",
       "<table border=\"1\" class=\"dataframe\">\n",
       "  <thead>\n",
       "    <tr style=\"text-align: right;\">\n",
       "      <th></th>\n",
       "      <th>skew</th>\n",
       "      <th>kurtosis</th>\n",
       "    </tr>\n",
       "  </thead>\n",
       "  <tbody>\n",
       "    <tr>\n",
       "      <th>extraversion</th>\n",
       "      <td>-0.033683</td>\n",
       "      <td>-0.449963</td>\n",
       "    </tr>\n",
       "    <tr>\n",
       "      <th>neuroticism</th>\n",
       "      <td>0.327321</td>\n",
       "      <td>-0.250331</td>\n",
       "    </tr>\n",
       "    <tr>\n",
       "      <th>agreeableness</th>\n",
       "      <td>-0.159292</td>\n",
       "      <td>-0.595927</td>\n",
       "    </tr>\n",
       "    <tr>\n",
       "      <th>openness</th>\n",
       "      <td>0.057707</td>\n",
       "      <td>-0.279550</td>\n",
       "    </tr>\n",
       "    <tr>\n",
       "      <th>conscientiousness</th>\n",
       "      <td>-0.090860</td>\n",
       "      <td>-0.484820</td>\n",
       "    </tr>\n",
       "    <tr>\n",
       "      <th>thinking</th>\n",
       "      <td>-0.306973</td>\n",
       "      <td>-0.260468</td>\n",
       "    </tr>\n",
       "    <tr>\n",
       "      <th>communicating</th>\n",
       "      <td>-0.173316</td>\n",
       "      <td>-0.052907</td>\n",
       "    </tr>\n",
       "    <tr>\n",
       "      <th>team_building</th>\n",
       "      <td>-0.045609</td>\n",
       "      <td>-0.433966</td>\n",
       "    </tr>\n",
       "  </tbody>\n",
       "</table>\n",
       "</div>"
      ],
      "text/plain": [
       "                       skew  kurtosis\n",
       "extraversion      -0.033683 -0.449963\n",
       "neuroticism        0.327321 -0.250331\n",
       "agreeableness     -0.159292 -0.595927\n",
       "openness           0.057707 -0.279550\n",
       "conscientiousness -0.090860 -0.484820\n",
       "thinking          -0.306973 -0.260468\n",
       "communicating     -0.173316 -0.052907\n",
       "team_building     -0.045609 -0.433966"
      ]
     },
     "execution_count": 42,
     "metadata": {},
     "output_type": "execute_result"
    }
   ],
   "source": [
    "# checking skewness and kurtosis\n",
    "data_traits.agg(['skew', 'kurtosis']).transpose()"
   ]
  },
  {
   "cell_type": "markdown",
   "id": "round-russian",
   "metadata": {},
   "source": [
    "Since skewness is between -0.5 and 0.5, the distributions are approximately symmetric, so transformations are not needed."
   ]
  },
  {
   "cell_type": "markdown",
   "id": "precious-caribbean",
   "metadata": {},
   "source": [
    "For the clustering algorithm to work well, all variables must have the same variance. For this purpose, we apply scaling. "
   ]
  },
  {
   "cell_type": "code",
   "execution_count": 43,
   "id": "three-solid",
   "metadata": {},
   "outputs": [],
   "source": [
    "# scaling the data\n",
    "# instantiating a StandardScaler() object\n",
    "scaler = StandardScaler()\n",
    "\n",
    "# fitting the scaler with the data\n",
    "scaler.fit(data_traits)\n",
    "\n",
    "# transforming our data after fit\n",
    "X_scaled = scaler.transform(data_traits)\n",
    "\n",
    "# converting scaled data into a DataFrame\n",
    "data_scaled = pd.DataFrame(X_scaled)\n",
    "\n",
    "# reattaching column names\n",
    "data_scaled.columns = data_traits.columns\n",
    "\n",
    "# # checking pre- and post-scaling variance\n",
    "# print(pd.np.var(data_traits), '\\n')\n",
    "# print(pd.np.var(data_scaled))"
   ]
  },
  {
   "cell_type": "markdown",
   "id": "clear-charter",
   "metadata": {},
   "source": [
    "<h3><center>Principal Component Analysis</center></h3>\n",
    "\n",
    "We will use Principal Component Analysis to create uncorrelated variables. This allows us to maximize variance which gives an opportunity to reduce the dimensionality and to increase the interpretability of the results."
   ]
  },
  {
   "cell_type": "code",
   "execution_count": 44,
   "id": "hundred-playback",
   "metadata": {},
   "outputs": [],
   "source": [
    "# defining scree_plot function to visualize explained variance\n",
    "def scree_plot(pca_object, export=False):\n",
    "    \"\"\"\n",
    "Building a scree plot\n",
    "    \"\"\"\n",
    "\n",
    "    # setting plot size\n",
    "    fig, ax = plt.subplots(figsize=(8, 6))\n",
    "    features = range(pca_object.n_components_)\n",
    "\n",
    "    # developing a scree plot\n",
    "    plt.plot(features,\n",
    "             pca_object.explained_variance_ratio_,\n",
    "             linewidth=2,\n",
    "             marker='o',\n",
    "             markersize=10,\n",
    "             markeredgecolor='black',\n",
    "             markerfacecolor='grey')\n",
    "\n",
    "    # setting more plot options\n",
    "    plt.title('Scree Plot')\n",
    "    plt.xlabel('PCA feature')\n",
    "    plt.ylabel('Explained Variance')\n",
    "    plt.xticks(features)\n",
    "\n",
    "    if export == True:\n",
    "    \n",
    "        # exporting the plot\n",
    "        plt.savefig('./analysis_images/top_customers_correlation_scree_plot.png')\n",
    "        \n",
    "    # displaying the plot\n",
    "    plt.show()"
   ]
  },
  {
   "cell_type": "code",
   "execution_count": 45,
   "id": "tested-biology",
   "metadata": {},
   "outputs": [
    {
     "data": {
      "image/png": "[encoded data removed]",
      "text/plain": [
       "<Figure size 576x432 with 1 Axes>"
      ]
     },
     "metadata": {},
     "output_type": "display_data"
    }
   ],
   "source": [
    "# instantiating a PCA object with no limit to principal components\n",
    "pca = PCA(n_components=None,\n",
    "          random_state=219)\n",
    "\n",
    "# fitting and transforming the scaled data\n",
    "customer_pca = pca.fit_transform(data_scaled)\n",
    "\n",
    "# calling the scree_plot function\n",
    "scree_plot(pca_object=pca)"
   ]
  },
  {
   "cell_type": "markdown",
   "id": "legislative-essex",
   "metadata": {},
   "source": [
    "One can see the elbow at the principal component 1, but since components 1 and 2 together explain about 57% of the variance, we need to increase the number of principal components. To explain at least 80% of the variance, we have to use six principal components."
   ]
  },
  {
   "cell_type": "code",
   "execution_count": 46,
   "id": "fantastic-scenario",
   "metadata": {},
   "outputs": [
    {
     "name": "stdout",
     "output_type": "stream",
     "text": [
      "0.8628897501707055\n"
     ]
    }
   ],
   "source": [
    "# printing the sum of explained variance ratios for given number \n",
    "# of principal components\n",
    "print(pca.explained_variance_ratio_[0:5].sum())"
   ]
  },
  {
   "cell_type": "code",
   "execution_count": 47,
   "id": "amazing-perry",
   "metadata": {},
   "outputs": [],
   "source": [
    "# instantiating a new model using the first three principal components\n",
    "pca_6 = PCA(n_components=6,\n",
    "            random_state=219)\n",
    "\n",
    "# fitting and transforming the scaled data\n",
    "customer_pca_6 = pca_6.fit_transform(data_scaled)\n",
    "\n",
    "# # calling the scree_plot function\n",
    "# scree_plot(pca_object = pca_6)"
   ]
  },
  {
   "cell_type": "markdown",
   "id": "scenic-postcard",
   "metadata": {},
   "source": [
    "As a result, we got six Personas with the following sets of components. "
   ]
  },
  {
   "cell_type": "code",
   "execution_count": 48,
   "id": "saving-ordinary",
   "metadata": {},
   "outputs": [
    {
     "name": "stdout",
     "output_type": "stream",
     "text": [
      "\n",
      "6 Components Factor Loadings\n",
      "----------------------------\n",
      "                      0     1     2     3     4     5\n",
      "extraversion      -0.22 -0.08  0.87 -0.05 -0.40 -0.08\n",
      "neuroticism        0.10  0.93 -0.04 -0.02 -0.28 -0.16\n",
      "agreeableness     -0.33  0.10  0.01 -0.74  0.40 -0.38\n",
      "openness          -0.36  0.12  0.07  0.62  0.47 -0.34\n",
      "conscientiousness -0.34 -0.26 -0.47 -0.04 -0.59 -0.36\n",
      "thinking          -0.46  0.06 -0.04  0.24 -0.15 -0.13\n",
      "communicating     -0.45  0.03  0.04 -0.10  0.14  0.35\n",
      "team_building     -0.42  0.18 -0.15 -0.04 -0.07  0.66\n",
      "\n"
     ]
    }
   ],
   "source": [
    "# transposing pca components\n",
    "factor_loadings = pd.DataFrame(pd.np.transpose(pca_6.components_))\n",
    "\n",
    "# naming rows as original features\n",
    "factor_loadings = factor_loadings.set_index(data_scaled.columns)\n",
    "\n",
    "# checking the results\n",
    "print(f\"\"\"\n",
    "6 Components Factor Loadings\n",
    "----------------------------\n",
    "{factor_loadings.round(2)}\n",
    "\"\"\")"
   ]
  },
  {
   "cell_type": "markdown",
   "id": "satisfactory-cowboy",
   "metadata": {},
   "source": [
    "We identified six types of Customer-Level Persona as follows.\n",
    "\n",
    "- Silly Introvert. This persona is quiet and reserved and doesn't like drawing attention to themselves. Tend to live one day at a time and don't worry about life in excess, a bit lazy and disorganized.\n",
    "- Neurotic. This persona is temperamental and self-conscious. They manage to work and collaborate with people, and they will assume responsibility for their work. Although, they won't play a leadership role in teams.\n",
    "- Unconscious Experimenter. This persona enjoys a social life, is highly talkative and tend to be irresponsible, lazy, and don't mind arriving late\n",
    "- Disagreeable Experimenter. They are open to new experiences but are not collaborative and kind; it is possible that this persona likes to show-off.\n",
    "- Entrepreneur. They have many ideas and are passionate about innovation. They enjoy working with people. They have a high level of risk acceptance and a low level of assertiveness due to imagination. They communicate effectively and have experiences in pitching their ideas\n",
    "- Team Builder. This persona fosters team relationships and might have the ability to resolve conflicts constructively. However, it is not so collaborative, organized, and self-conscious."
   ]
  },
  {
   "cell_type": "markdown",
   "id": "collaborative-flood",
   "metadata": {},
   "source": [
    "Rename the DataFrame columns according to the conditional names for each persona. "
   ]
  },
  {
   "cell_type": "code",
   "execution_count": 49,
   "id": "caring-malawi",
   "metadata": {},
   "outputs": [],
   "source": [
    "# naming each principal component\n",
    "factor_loadings.columns = ['Silly Introvert', # no thinking, no communicating, no team_building\n",
    "                           'Neurotic', # neuroticism\n",
    "                           'Unconscious Experimenter', # extraversion, no conscientiousness\n",
    "                           'Disagreeable Experimenter', # no agreeableness, openness\n",
    "                           'Entrepreneur', # no extraversion, agreeableness, openness, no conscientiousness\n",
    "                           'Team Builder'] # team_building \n",
    "\n",
    "# # checking the result\n",
    "# factor_loadings"
   ]
  },
  {
   "cell_type": "markdown",
   "id": "charitable-jacksonville",
   "metadata": {},
   "source": [
    "Creating a DataFrame with each respondent's principal components."
   ]
  },
  {
   "cell_type": "code",
   "execution_count": 50,
   "id": "fluid-oxford",
   "metadata": {
    "scrolled": true
   },
   "outputs": [],
   "source": [
    "# converting factor strengths per customer to a DataFrame\n",
    "pca_df = pd.DataFrame(customer_pca_6)\n",
    "\n",
    "# renaming columns\n",
    "pca_df.columns = factor_loadings.columns\n",
    "\n",
    "# # checking result\n",
    "# pca_df"
   ]
  },
  {
   "cell_type": "markdown",
   "id": "amazing-nursery",
   "metadata": {},
   "source": [
    "<h3><center>Preparing to Clustering</center></h3>\n",
    "\n",
    "Since the variances have changed, we need to run the scaling one more time."
   ]
  },
  {
   "cell_type": "code",
   "execution_count": 51,
   "id": "humanitarian-wireless",
   "metadata": {},
   "outputs": [],
   "source": [
    "# prepare a scaled version of the factor loadings dataset\n",
    "# instantiating a StandardScaler() object\n",
    "scaler = StandardScaler()\n",
    "\n",
    "# fitting the scaler with the data\n",
    "scaler.fit(pca_df)\n",
    "\n",
    "# transfirming our data after fit\n",
    "x_scaled = scaler.transform(pca_df)\n",
    "\n",
    "# converting scaled data into a DataFrame\n",
    "pca_scaled = pd.DataFrame(x_scaled)\n",
    "\n",
    "# reattaching column names\n",
    "pca_scaled.columns = pca_df.columns\n",
    "\n",
    "# # checking pre- and post-scaling variance\n",
    "# print(pd.np.var(pca_df), '\\n')\n",
    "# print(pd.np.var(pca_scaled))"
   ]
  },
  {
   "cell_type": "markdown",
   "id": "rotary-pitch",
   "metadata": {},
   "source": [
    "To determine the optimal number of clusters we use the dendrogram. "
   ]
  },
  {
   "cell_type": "code",
   "execution_count": 52,
   "id": "charged-student",
   "metadata": {},
   "outputs": [
    {
     "data": {
      "image/png": "[encoded data removed]",
      "text/plain": [
       "<Figure size 864x576 with 1 Axes>"
      ]
     },
     "metadata": {},
     "output_type": "display_data"
    }
   ],
   "source": [
    "# developing a dendrogram\n",
    "# grouping data based on Ward distance\n",
    "standard_mergings_ward = linkage(y=pca_scaled,\n",
    "                                 method='ward',\n",
    "                                 optimal_ordering=True)\n",
    "\n",
    "# setting plot size\n",
    "fig, ax = plt.subplots(figsize=(12, 8))\n",
    "\n",
    "# developing a dendrogram\n",
    "dendrogram(Z=standard_mergings_ward,\n",
    "           leaf_rotation=90,\n",
    "           leaf_font_size=6)\n",
    "\n",
    "# displaying the plot\n",
    "plt.show()"
   ]
  },
  {
   "cell_type": "markdown",
   "id": "temporal-angle",
   "metadata": {},
   "source": [
    "To develop more candidates for the number of clusters we can use an inertia plot."
   ]
  },
  {
   "cell_type": "code",
   "execution_count": 53,
   "id": "dressed-louisville",
   "metadata": {},
   "outputs": [],
   "source": [
    "# defining the function for visualizing inertia \n",
    "def inertia_plot(data, max_clust=50):\n",
    "    \"\"\"\n",
    "PARAMETERS\n",
    "----------\n",
    "data      : DataFrame, data from which to build clusters. Dataset should be scaled\n",
    "max_clust : int, maximum of range for how many clusters to check interia, default 50\n",
    "    \"\"\"\n",
    "\n",
    "    ks = range(1, max_clust)\n",
    "    inertias = []\n",
    "\n",
    "\n",
    "    for k in ks:\n",
    "        # instantiating a kmeans object\n",
    "        model = KMeans(n_clusters=k)\n",
    "\n",
    "        # fitting to the data\n",
    "        model.fit(data)\n",
    "\n",
    "        # appending each inertia to the list of inertias\n",
    "        inertias.append(model.inertia_)\n",
    "\n",
    "\n",
    "    # plotting ks vs inertias\n",
    "    fig, ax = plt.subplots(figsize=(8, 4))\n",
    "    plt.plot(ks, inertias, '-o')\n",
    "\n",
    "    # labeling and displaying the plot\n",
    "    plt.xlabel('number of clusters, k')\n",
    "    plt.ylabel('inertia')\n",
    "    plt.xticks(ks)\n",
    "    plt.show()"
   ]
  },
  {
   "cell_type": "code",
   "execution_count": 54,
   "id": "measured-innocent",
   "metadata": {},
   "outputs": [
    {
     "data": {
      "image/png": "[encoded data removed]",
      "text/plain": [
       "<Figure size 576x288 with 1 Axes>"
      ]
     },
     "metadata": {},
     "output_type": "display_data"
    }
   ],
   "source": [
    "# calling the inertia_plot() function\n",
    "inertia_plot(pca_scaled)"
   ]
  },
  {
   "cell_type": "markdown",
   "id": "elder-default",
   "metadata": {},
   "source": [
    "Looking at the dendrogram and the inertia plot it seems reasonable to use 6 clusters."
   ]
  },
  {
   "cell_type": "markdown",
   "id": "affiliated-likelihood",
   "metadata": {},
   "source": [
    "<h3><center>Developing a k-Means Model with six Clusters</center></h3>\n",
    "\n",
    "Fitting the model to the data. "
   ]
  },
  {
   "cell_type": "code",
   "execution_count": 55,
   "id": "hazardous-tract",
   "metadata": {},
   "outputs": [],
   "source": [
    "# instantiating a k-Means object with six clusters\n",
    "respondents_k_pca = KMeans(n_clusters=6,\n",
    "                           random_state=219)\n",
    "\n",
    "# fitting the object to the data\n",
    "respondents_k_pca.fit(pca_scaled)\n",
    "\n",
    "# converting the clusters to a DataFrame\n",
    "respondents_kmeans_pca = pd.DataFrame({'Cluster': respondents_k_pca.labels_})\n",
    "\n",
    "# # checking how many respondents in each group\n",
    "# print(respondents_kmeans_pca.iloc[: , 0].value_counts())"
   ]
  },
  {
   "cell_type": "markdown",
   "id": "latest-purple",
   "metadata": {},
   "source": [
    "We got six clusters with the number of observations from 17 to 26, having the following centroids."
   ]
  },
  {
   "cell_type": "code",
   "execution_count": 56,
   "id": "alpha-warner",
   "metadata": {},
   "outputs": [
    {
     "data": {
      "text/html": [
       "<div>\n",
       "<style scoped>\n",
       "    .dataframe tbody tr th:only-of-type {\n",
       "        vertical-align: middle;\n",
       "    }\n",
       "\n",
       "    .dataframe tbody tr th {\n",
       "        vertical-align: top;\n",
       "    }\n",
       "\n",
       "    .dataframe thead th {\n",
       "        text-align: right;\n",
       "    }\n",
       "</style>\n",
       "<table border=\"1\" class=\"dataframe\">\n",
       "  <thead>\n",
       "    <tr style=\"text-align: right;\">\n",
       "      <th></th>\n",
       "      <th>Silly Introvert</th>\n",
       "      <th>Neurotic</th>\n",
       "      <th>Unconscious Experimenter</th>\n",
       "      <th>Disagreeable Experimenter</th>\n",
       "      <th>Entrepreneur</th>\n",
       "      <th>Team Builder</th>\n",
       "    </tr>\n",
       "  </thead>\n",
       "  <tbody>\n",
       "    <tr>\n",
       "      <th>0</th>\n",
       "      <td>-0.50</td>\n",
       "      <td>-0.72</td>\n",
       "      <td>-0.39</td>\n",
       "      <td>-0.38</td>\n",
       "      <td>-0.94</td>\n",
       "      <td>0.49</td>\n",
       "    </tr>\n",
       "    <tr>\n",
       "      <th>1</th>\n",
       "      <td>1.13</td>\n",
       "      <td>-0.35</td>\n",
       "      <td>0.14</td>\n",
       "      <td>-0.41</td>\n",
       "      <td>-0.24</td>\n",
       "      <td>-0.66</td>\n",
       "    </tr>\n",
       "    <tr>\n",
       "      <th>2</th>\n",
       "      <td>0.16</td>\n",
       "      <td>1.41</td>\n",
       "      <td>-0.37</td>\n",
       "      <td>-0.62</td>\n",
       "      <td>0.33</td>\n",
       "      <td>0.02</td>\n",
       "    </tr>\n",
       "    <tr>\n",
       "      <th>3</th>\n",
       "      <td>-0.17</td>\n",
       "      <td>-0.18</td>\n",
       "      <td>-1.21</td>\n",
       "      <td>0.97</td>\n",
       "      <td>1.09</td>\n",
       "      <td>-0.20</td>\n",
       "    </tr>\n",
       "    <tr>\n",
       "      <th>4</th>\n",
       "      <td>-0.76</td>\n",
       "      <td>-0.36</td>\n",
       "      <td>0.88</td>\n",
       "      <td>-0.35</td>\n",
       "      <td>0.87</td>\n",
       "      <td>-0.01</td>\n",
       "    </tr>\n",
       "    <tr>\n",
       "      <th>5</th>\n",
       "      <td>0.05</td>\n",
       "      <td>0.34</td>\n",
       "      <td>0.73</td>\n",
       "      <td>1.13</td>\n",
       "      <td>-0.66</td>\n",
       "      <td>0.32</td>\n",
       "    </tr>\n",
       "  </tbody>\n",
       "</table>\n",
       "</div>"
      ],
      "text/plain": [
       "   Silly Introvert  Neurotic  Unconscious Experimenter  \\\n",
       "0            -0.50     -0.72                     -0.39   \n",
       "1             1.13     -0.35                      0.14   \n",
       "2             0.16      1.41                     -0.37   \n",
       "3            -0.17     -0.18                     -1.21   \n",
       "4            -0.76     -0.36                      0.88   \n",
       "5             0.05      0.34                      0.73   \n",
       "\n",
       "   Disagreeable Experimenter  Entrepreneur  Team Builder  \n",
       "0                      -0.38         -0.94          0.49  \n",
       "1                      -0.41         -0.24         -0.66  \n",
       "2                      -0.62          0.33          0.02  \n",
       "3                       0.97          1.09         -0.20  \n",
       "4                      -0.35          0.87         -0.01  \n",
       "5                       1.13         -0.66          0.32  "
      ]
     },
     "execution_count": 56,
     "metadata": {},
     "output_type": "execute_result"
    }
   ],
   "source": [
    "# storing cluster centers\n",
    "centroids_pca = respondents_k_pca.cluster_centers_\n",
    "\n",
    "# converting cluster centers into a DataFrame\n",
    "centroids_pca_df = pd.DataFrame(centroids_pca)\n",
    "\n",
    "# renaming principal components\n",
    "centroids_pca_df.columns = pca_scaled.columns\n",
    "\n",
    "# checking results (clusters = rows, pc = columns)\n",
    "centroids_pca_df.round(2)"
   ]
  },
  {
   "cell_type": "markdown",
   "id": "supreme-george",
   "metadata": {},
   "source": [
    "<h3><center>Analysis of Clusters</center></h3>\n",
    "\n",
    "Combine demographic information with personal characteristics. "
   ]
  },
  {
   "cell_type": "code",
   "execution_count": 57,
   "id": "acoustic-campaign",
   "metadata": {},
   "outputs": [],
   "source": [
    "# concatenating clusters' numbers and PCA components into one DataFrame\n",
    "clst_pca_df = pd.concat([respondents_kmeans_pca,\n",
    "                         pca_df],\n",
    "                        axis = 1)\n",
    "\n",
    "# # checking results\n",
    "# print(clst_pca_df.head(5))"
   ]
  },
  {
   "cell_type": "code",
   "execution_count": 58,
   "id": "usual-gross",
   "metadata": {},
   "outputs": [],
   "source": [
    "# concatenating demographic information as well as information about \n",
    "# laptop type preferences with pca-clusters\n",
    "final_df = pd.concat([data.loc[:, dem_cols], \n",
    "                      data.loc[:, laptop_types],\n",
    "                      clst_pca_df], \n",
    "                     axis = 1)"
   ]
  },
  {
   "cell_type": "code",
   "execution_count": 59,
   "id": "physical-opposition",
   "metadata": {},
   "outputs": [],
   "source": [
    "# renaming clusters\n",
    "cluster_names = {0: 'Cluster 0',\n",
    "                 1: 'Cluster 1',\n",
    "                 2: 'Cluster 2',\n",
    "                 3: 'Cluster 3',\n",
    "                 4: 'Cluster 4',\n",
    "                 5: 'Cluster 5'}\n",
    "\n",
    "final_df['Cluster'].replace(cluster_names, inplace=True)"
   ]
  },
  {
   "cell_type": "code",
   "execution_count": 60,
   "id": "cordless-diary",
   "metadata": {},
   "outputs": [],
   "source": [
    "# # checking the results\n",
    "# final_df.head(5)"
   ]
  },
  {
   "cell_type": "markdown",
   "id": "driving-cylinder",
   "metadata": {},
   "source": [
    "Let us visually analyze the obtained clusters."
   ]
  },
  {
   "cell_type": "code",
   "execution_count": 61,
   "id": "distant-direction",
   "metadata": {},
   "outputs": [
    {
     "data": {
      "image/png": "[encoded data removed]",
      "text/plain": [
       "<Figure size 720x432 with 1 Axes>"
      ]
     },
     "metadata": {},
     "output_type": "display_data"
    }
   ],
   "source": [
    "# Silly Introverts\n",
    "fig, ax = plt.subplots(figsize=(10, 6))\n",
    "sns.boxplot(x='What laptop would you buy in next assuming if all laptops cost the same?',\n",
    "            y='Silly Introvert',\n",
    "            hue='Cluster',\n",
    "            data=final_df)\n",
    "\n",
    "# formatting and displaying the plot\n",
    "plt.tight_layout()\n",
    "plt.show()"
   ]
  },
  {
   "cell_type": "code",
   "execution_count": 62,
   "id": "illegal-founder",
   "metadata": {},
   "outputs": [
    {
     "data": {
      "image/png": "[encoded data removed]",
      "text/plain": [
       "<Figure size 720x432 with 1 Axes>"
      ]
     },
     "metadata": {},
     "output_type": "display_data"
    }
   ],
   "source": [
    "# Entrepreneurs\n",
    "fig, ax = plt.subplots(figsize=(10, 6))\n",
    "sns.boxplot(x='What laptop would you buy in next assuming if all laptops cost the same?',\n",
    "            y='Entrepreneur',\n",
    "            hue='Cluster',\n",
    "            data=final_df)\n",
    "\n",
    "# formatting and displaying the plot\n",
    "plt.tight_layout()\n",
    "plt.show()"
   ]
  },
  {
   "cell_type": "markdown",
   "id": "published-hamburg",
   "metadata": {},
   "source": [
    "We analyzed visualizations by persona type and cluster for possible patterns in relation to past and present purchasing preferences, as well as demographic information. "
   ]
  },
  {
   "cell_type": "markdown",
   "id": "technical-violin",
   "metadata": {},
   "source": [
    "We also analyzed the clusters in terms of demographic information. "
   ]
  },
  {
   "cell_type": "code",
   "execution_count": 63,
   "id": "insured-purchase",
   "metadata": {},
   "outputs": [],
   "source": [
    "# # analysing programs using grouping by clusters\n",
    "# final_df.groupby(['Cluster'])['What program are you in?'].value_counts()"
   ]
  },
  {
   "cell_type": "code",
   "execution_count": 64,
   "id": "desperate-seafood",
   "metadata": {},
   "outputs": [],
   "source": [
    "# # analysing genders using grouping by clusters\n",
    "# final_df.groupby(['Cluster'])['Gender'].value_counts()"
   ]
  },
  {
   "cell_type": "code",
   "execution_count": 65,
   "id": "bronze-hindu",
   "metadata": {},
   "outputs": [],
   "source": [
    "# # analysing ethnicity using grouping by clusters\n",
    "# final_df.groupby(['Cluster'])['What is your ethnicity?'].value_counts()"
   ]
  },
  {
   "cell_type": "code",
   "execution_count": 66,
   "id": "variable-german",
   "metadata": {},
   "outputs": [],
   "source": [
    "# # analysing age using grouping by clusters\n",
    "# final_df.groupby(['Cluster'])['Age Group'].value_counts()"
   ]
  },
  {
   "cell_type": "code",
   "execution_count": 67,
   "id": "joint-louisville",
   "metadata": {},
   "outputs": [],
   "source": [
    "# # analysing currently owned laptop using grouping by clusters\n",
    "# final_df.groupby(['Cluster'])['What laptop do you currently have?'].value_counts()"
   ]
  },
  {
   "cell_type": "code",
   "execution_count": 68,
   "id": "later-shelf",
   "metadata": {},
   "outputs": [],
   "source": [
    "# # analysing purchasing intention using grouping by clusters\n",
    "# final_df.groupby(['Cluster'])\\\n",
    "#     ['What laptop would you buy in next assuming if all laptops cost the same?'] \\\n",
    "#     .value_counts()"
   ]
  },
  {
   "cell_type": "markdown",
   "id": "representative-adrian",
   "metadata": {},
   "source": [
    "<h3><center>Why Apple?</center></h3>\n",
    "\n",
    "Mac users value the fact that Apple develops software and hardware; this factor represents the user's practicality when deciding on a computer or for maintenance. They can have their solutions in just one place.\n",
    "\n",
    "Creative professionals, video designers or editors, and web developers or programmers value their graphical user interface. As well as the safety providing better protections against malware or viruses.\n",
    "\n",
    "Other features valuable for users are the hardware design and Apple's philosophy. Both are aligned to be simple and 'think different.'  These elements set Mac computers as a high-end product."
   ]
  },
  {
   "cell_type": "markdown",
   "id": "regulated-fleece",
   "metadata": {},
   "source": [
    "<h3><center>Insights and Recommendations</center></h3>"
   ]
  },
  {
   "cell_type": "markdown",
   "id": "gross-coast",
   "metadata": {},
   "source": [
    "There is no significant difference between clusters in terms of demographic information.\n",
    "\n",
    "If a respondent has Macbook, most likely their next laptop will be also Macbook.\n",
    "\n",
    "Our goal is to find people who can switch from Windows laptops to Macbook and recommend them as the target audience. Therefore, when developing marketing campaigns, it makes sense to focus on those respondents who are part of the groups that are disposed to buy a Macbook, but themselves plan to buy another laptop.\n",
    "Entrepreneurs and Silly Introverts are more prone to purchase Macbook.\n",
    "\n",
    "- A Silly Introvert personality might prefer Macbook because it is looking for friendly software and hardware to avoid making so many decisions and can synchronize their phone with their lap without complex processes. Since their characteristics are similar to the ISFP personality type, we can assume that around 8.8% of the general population are Silly Introverts.\n",
    "- Entrepreneurs prefer Mac because they might feel identified with Apple's philosophy and also history. They need versatility due to their high level of innovation and graphical user interface to develop their video/photo pitching ideas. Their lack of time requires practicality on their equipment maintenance and good customer services to understand the needs and empathize with them. Since their characteristics are similar to the ENFP personality type, we can assume that around 8.1% of the general population are Entrepreneurs.\n",
    "\n",
    "Marketing campaigns also make sense to plan for those respondents who are part of a cluster that is generally more likely to purchase another laptop but may change their minds. Among our personas, these are Unconscious Experimenters."
   ]
  },
  {
   "cell_type": "markdown",
   "id": "mathematical-collapse",
   "metadata": {},
   "source": [
    "<h3><center>References</center></h3>"
   ]
  },
  {
   "cell_type": "markdown",
   "id": "spectacular-producer",
   "metadata": {},
   "source": [
    "39 entrepreneur statistics you need to know in 2021. (2021, January 05). *smallbizgenius.net.* Retrieved February 22, 2021, from https://www.smallbizgenius.net/by-the-numbers/entrepreneur-statistics/\n",
    "\n",
    "Andronico, M. (2020, December 11). MacBooks vs WINDOWS LAPTOPS: Which is best for you? *CNN UNDERSCORED.* Retrieved February 22, 2021 from https://us.cnn.com/2020/12/11/cnn-underscored/windows-vs-macbook#:~:text=The%20biggest%20difference%20between%20Windows,up%20to%20your%20other%20devices\n",
    "\n",
    "C. O. M. (2019, May 24). *The OWC blog.* Retrieved February 19, 2021 from https://eshop.macsales.com/blog/48820-what-percent-of-people-prefer-mac-over-pc/\n",
    "\n",
    "CareerPlanner.com, M. (n.d.). All about the enfp personality type. *careerplanner.com.* Retrieved February 22, 2021, from https://www.careerplanner.com/MB2/PersonalityType-ENFP.cfm\n",
    "\n",
    "CareerPlanner.com, M. (n.d.). All about The Isfp personality type. *careerplanner.com.* Retrieved February 22, 2021, from https://www.careerplanner.com/MB2/PersonalityType-ISFP.cfm\n",
    "\n",
    "Cherry K. (2020, July 13). The Big Five Personality Traits. *verywellmind.com.* Retrieved February 18, 2021 from https://www.verywellmind.com/the-big-five-personality-dimensions-2795422#:~:text=The%20five%20broad%20personality%20traits,how%20many%20personality%20traits%20exist\n",
    "\n",
    "Inc., M. (n.d.). How rare is your personality type? *careerplanner.com.* Retrieved February 22, 2021, from https://www.careerplanner.com/MB2/TypeInPopulation.cfm\n",
    "\n",
    "Lin, Y. (2021, February 04). 10 entrepreneur stats that you need to know in 2021. *oberlo.com.* Retrieved February 22, 2021, from https://www.oberlo.com/blog/entrepreneur-statistics\n",
    "\n",
    "Farr, C. (2019, June). Digital crafts. *digitalcrafts.com.* Retrieved February 20, 2021 from https://www.digitalcrafts.com/blog/why-developers-prefer-macs\n",
    "\n",
    "Johansson, A. (2019, October 14). *The OWC blog.* Retrieved February 20, 2021 from https://eshop.macsales.com/blog/54446-the-final-verdict-on-why-people-prefer-macbooks-over-other-laptops/\n",
    "\n",
    "Mariusz. (2019, December 16). Hackernoon. *hackernoon.com.* Retrieved February 20, 2021 from https://hackernoon.com/why-do-programmers-choose-macbooks-8gm32dh\n",
    "\n",
    "PC vs. Mac: Which computer is right for you. (n.d.). *intel.com* Retrieved February 22, 2021 from https://www.intel.com/content/www/us/en/tech-tips-and-tricks/pc-vs-mac-the-big-debate.html\n",
    "\n",
    "Rojas, N., About the Author: Nick Rojas Nick Rojas is a business consultant and writer who lives in Los Angeles. He has consulted small and medium-sized enterprises for over twenty years. He has contributed articles to Visual.ly, & \\*, N. (2021, February 18). 5 characteristics of an ENTREPRENEUR. *VISTAGE.* Retrieved February 22, 2021, from https://www.vistage.com/research-center/business-leadership/20161027-5-characteristics-of-an-entrepreneur/\n",
    "\n",
    "Shaheem S. (2019). Why every leader needs a growth mindset. *Hult International Business School Blogs.* Retrieved February 18, 2021 from https://www.hult.edu/blog/why-every-leader-needs-growth-mindset/"
   ]
  }
 ],
 "metadata": {
  "kernelspec": {
   "display_name": "Python 3",
   "language": "python",
   "name": "python3"
  },
  "language_info": {
   "codemirror_mode": {
    "name": "ipython",
    "version": 3
   },
   "file_extension": ".py",
   "mimetype": "text/x-python",
   "name": "python",
   "nbconvert_exporter": "python",
   "pygments_lexer": "ipython3",
   "version": "3.8.5"
  },
  "toc": {
   "base_numbering": 1,
   "nav_menu": {},
   "number_sections": false,
   "sideBar": true,
   "skip_h1_title": false,
   "title_cell": "Table of Contents",
   "title_sidebar": "Contents",
   "toc_cell": false,
   "toc_position": {
    "height": "calc(100% - 180px)",
    "left": "10px",
    "top": "150px",
    "width": "288px"
   },
   "toc_section_display": true,
   "toc_window_display": false
  },
  "varInspector": {
   "cols": {
    "lenName": 16,
    "lenType": 16,
    "lenVar": 40
   },
   "kernels_config": {
    "python": {
     "delete_cmd_postfix": "",
     "delete_cmd_prefix": "del ",
     "library": "var_list.py",
     "varRefreshCmd": "print(var_dic_list())"
    },
    "r": {
     "delete_cmd_postfix": ") ",
     "delete_cmd_prefix": "rm(",
     "library": "var_list.r",
     "varRefreshCmd": "cat(var_dic_list()) "
    }
   },
   "types_to_exclude": [
    "module",
    "function",
    "builtin_function_or_method",
    "instance",
    "_Feature"
   ],
   "window_display": false
  }
 },
 "nbformat": 4,
 "nbformat_minor": 5
}
